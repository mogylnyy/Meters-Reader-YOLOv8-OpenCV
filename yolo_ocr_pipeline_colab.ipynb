{
  "cells": [
    {
      "cell_type": "markdown",
      "metadata": {
        "id": "view-in-github",
        "colab_type": "text"
      },
      "source": [
        "<a href=\"https://colab.research.google.com/github/mogylnyy/Meters-Reader-YOLOv8-OpenCV/blob/main/yolo_ocr_pipeline_colab.ipynb\" target=\"_parent\"><img src=\"https://colab.research.google.com/assets/colab-badge.svg\" alt=\"Open In Colab\"/></a>"
      ]
    },
    {
      "cell_type": "code",
      "source": [
        "import cv2\n",
        "import numpy as np\n",
        "import matplotlib.pyplot as plt\n",
        "import os\n",
        "import torch\n",
        "from paddleocr import PaddleOCR\n",
        "from inference_sdk import InferenceHTTPClient\n",
        "\n",
        "# === Настройки\n",
        "img_path = \"/content/test_images/7.jpg\"\n",
        "output_dir = \"/content/digits\"\n",
        "os.makedirs(output_dir, exist_ok=True)\n",
        "\n",
        "# === Функция затемнения ROI\n",
        "def darken(image, factor=0.75):\n",
        "    return np.clip(image * factor, 0, 255).astype(np.uint8)\n",
        "\n",
        "# === 0. Загрузка изображения\n",
        "img_bgr = cv2.imread(img_path)\n",
        "if img_bgr is None:\n",
        "    raise FileNotFoundError(\"❌ Изображение не найдено.\")\n",
        "img_rgb = cv2.cvtColor(img_bgr, cv2.COLOR_BGR2RGB)\n",
        "cv2.imwrite(\"/content/log_0_original.jpg\", img_bgr)\n",
        "\n",
        "# === 1. ROI через YOLOv5\n",
        "model_v5 = torch.hub.load('/content/yolov5', 'custom', path='/content/best_yolov5_roi.pt', source='local')\n",
        "results = model_v5(img_rgb)\n",
        "boxes = results.xyxy[0].cpu().numpy()\n",
        "if len(boxes) == 0:\n",
        "    raise ValueError(\"❌ YOLOv5 не нашёл ROI.\")\n",
        "x1, y1, x2, y2 = map(int, boxes[0][:4])\n",
        "roi = img_bgr[y1:y2, x1:x2]\n",
        "cv2.imwrite(\"/content/log_1_roi.jpg\", roi)\n",
        "\n",
        "# === 2. Затемнение ROI\n",
        "roi_darker = darken(roi)\n",
        "cv2.imwrite(\"/content/log_2_roi_darker.jpg\", roi_darker)\n",
        "\n",
        "# === 3. Roboflow API (детекция цифр)\n",
        "CLIENT = InferenceHTTPClient(api_url=\"https://serverless.roboflow.com\", api_key=\"mcwv1YGrhPuWimIK1Vhl\")\n",
        "cv2.imwrite(\"/content/tmp_roi.jpg\", roi_darker)\n",
        "result = CLIENT.infer(\"/content/tmp_roi.jpg\", model_id=\"digitdetector-unbek/1\")\n",
        "preds = result.get(\"predictions\", [])\n",
        "if preds:\n",
        "    median_y = np.median([p[\"y\"] for p in preds])\n",
        "    preds = [p for p in preds if p[\"y\"] >= median_y * 0.9]\n",
        "\n",
        "# === 4. Лог bbox\n",
        "img_out = roi.copy()\n",
        "for p in preds:\n",
        "    x, y = int(p[\"x\"]), int(p[\"y\"])\n",
        "    w, h = int(p[\"width\"] // 2), int(p[\"height\"] // 2)\n",
        "    x1, y1, x2, y2 = x - w, y - h, x + w, y + h\n",
        "    cv2.rectangle(img_out, (x1, y1), (x2, y2), (255, 0, 255), 2)\n",
        "cv2.imwrite(\"/content/log_3_bbox_filtered.jpg\", img_out)\n",
        "\n",
        "# === 5. Вырезка и сортировка\n",
        "digit_imgs = []\n",
        "for i, p in enumerate(sorted(preds, key=lambda b: b[\"x\"])):\n",
        "    x, y = int(p[\"x\"]), int(p[\"y\"])\n",
        "    w, h = int(p[\"width\"] // 2), int(p[\"height\"] // 2)\n",
        "    x1, y1 = max(x - w, 0), max(y - h, 0)\n",
        "    x2, y2 = min(x + w, roi.shape[1]), min(y + h, roi.shape[0])\n",
        "    digit_crop = roi[y1:y2, x1:x2]\n",
        "    if digit_crop.shape[0] < 10 or digit_crop.shape[1] < 10:\n",
        "        continue\n",
        "    resized = cv2.resize(digit_crop, (32, 64))\n",
        "    digit_imgs.append(resized)\n",
        "    cv2.imwrite(f\"{output_dir}/digit_{i+1}.jpg\", resized)\n",
        "\n",
        "# === 6. Склейка\n",
        "if not digit_imgs:\n",
        "    raise ValueError(\"❌ Нет цифр для OCR\")\n",
        "row = cv2.hconcat(digit_imgs)\n",
        "cv2.imwrite(\"/content/log_4_row_final.jpg\", row)\n",
        "\n",
        "# === 7. PaddleOCR (только чтение текста)\n",
        "ocr = PaddleOCR(det=False, use_angle_cls=False, lang='en')\n",
        "\n",
        "img_rgb = cv2.cvtColor(row, cv2.COLOR_BGR2RGB)\n",
        "results = ocr.ocr(img_rgb, det=False)\n",
        "\n",
        "if results and isinstance(results[0], list) and len(results[0]) > 0:\n",
        "    raw_text = results[0][0][0]\n",
        "    clean = re.sub(r\"[^0-9]\", \"\", raw_text).strip()\n",
        "\n",
        "    # === Фильтрация ведущей \"1\", если длина == 8\n",
        "    if len(clean) == 8 and clean.startswith(\"1\"):\n",
        "        print(\"⚠️ Удаляем ведущую '1' по правилу 8-цифровой строки\")\n",
        "        clean = clean[1:]\n",
        "\n",
        "    final_text = clean\n",
        "    print(f\"🔍 PaddleOCR (rec): raw='{raw_text}' → clean='{final_text}'\")\n",
        "else:\n",
        "    final_text = \"Ошибка\"\n",
        "    print(\"❌ PaddleOCR не распознал строку.\")\n"
      ],
      "metadata": {
        "colab": {
          "base_uri": "https://localhost:8080/"
        },
        "id": "Ev_kCQlfA4M4",
        "outputId": "d760fef9-a67c-40af-def0-3e051d482fa1"
      },
      "id": "Ev_kCQlfA4M4",
      "execution_count": 139,
      "outputs": [
        {
          "output_type": "stream",
          "name": "stderr",
          "text": [
            "YOLOv5 🚀 v7.0-416-gfe1d4d99 Python-3.11.12 torch-2.6.0+cu124 CPU\n",
            "\n",
            "Fusing layers... \n",
            "YOLOv5s summary: 157 layers, 7042489 parameters, 0 gradients, 15.9 GFLOPs\n",
            "Adding AutoShape... \n"
          ]
        },
        {
          "output_type": "stream",
          "name": "stdout",
          "text": [
            "[2025/04/25 03:05:11] ppocr DEBUG: Namespace(help='==SUPPRESS==', use_gpu=False, use_xpu=False, use_npu=False, use_mlu=False, use_gcu=False, ir_optim=True, use_tensorrt=False, min_subgraph_size=15, precision='fp32', gpu_mem=500, gpu_id=0, image_dir=None, page_num=0, det_algorithm='DB', det_model_dir='/root/.paddleocr/whl/det/en/en_PP-OCRv3_det_infer', det_limit_side_len=960, det_limit_type='max', det_box_type='quad', det_db_thresh=0.3, det_db_box_thresh=0.6, det_db_unclip_ratio=1.5, max_batch_size=10, use_dilation=False, det_db_score_mode='fast', det_east_score_thresh=0.8, det_east_cover_thresh=0.1, det_east_nms_thresh=0.2, det_sast_score_thresh=0.5, det_sast_nms_thresh=0.2, det_pse_thresh=0, det_pse_box_thresh=0.85, det_pse_min_area=16, det_pse_scale=1, scales=[8, 16, 32], alpha=1.0, beta=1.0, fourier_degree=5, rec_algorithm='SVTR_LCNet', rec_model_dir='/root/.paddleocr/whl/rec/en/en_PP-OCRv4_rec_infer', rec_image_inverse=True, rec_image_shape='3, 48, 320', rec_batch_num=6, max_text_length=25, rec_char_dict_path='/usr/local/lib/python3.11/dist-packages/paddleocr/ppocr/utils/en_dict.txt', use_space_char=True, vis_font_path='./doc/fonts/simfang.ttf', drop_score=0.5, e2e_algorithm='PGNet', e2e_model_dir=None, e2e_limit_side_len=768, e2e_limit_type='max', e2e_pgnet_score_thresh=0.5, e2e_char_dict_path='./ppocr/utils/ic15_dict.txt', e2e_pgnet_valid_set='totaltext', e2e_pgnet_mode='fast', use_angle_cls=False, cls_model_dir='/root/.paddleocr/whl/cls/ch_ppocr_mobile_v2.0_cls_infer', cls_image_shape='3, 48, 192', label_list=['0', '180'], cls_batch_num=6, cls_thresh=0.9, enable_mkldnn=False, cpu_threads=10, use_pdserving=False, warmup=False, sr_model_dir=None, sr_image_shape='3, 32, 128', sr_batch_num=1, draw_img_save_dir='./inference_results', save_crop_res=False, crop_res_save_dir='./output', use_mp=False, total_process_num=1, process_id=0, benchmark=False, save_log_path='./log_output/', show_log=True, use_onnx=False, onnx_providers=False, onnx_sess_options=False, return_word_box=False, output='./output', table_max_len=488, table_algorithm='TableAttn', table_model_dir=None, merge_no_span_structure=True, table_char_dict_path=None, formula_algorithm='LaTeXOCR', formula_model_dir=None, formula_char_dict_path=None, formula_batch_num=1, layout_model_dir=None, layout_dict_path=None, layout_score_threshold=0.5, layout_nms_threshold=0.5, kie_algorithm='LayoutXLM', ser_model_dir=None, re_model_dir=None, use_visual_backbone=True, ser_dict_path='../train_data/XFUND/class_list_xfun.txt', ocr_order_method=None, mode='structure', image_orientation=False, layout=True, table=True, formula=False, ocr=True, recovery=False, recovery_to_markdown=False, use_pdf2docx_api=False, invert=False, binarize=False, alphacolor=(255, 255, 255), lang='en', det=False, rec=True, type='ocr', savefile=False, ocr_version='PP-OCRv4', structure_version='PP-StructureV2')\n",
            "[2025/04/25 03:05:13] ppocr WARNING: Since the angle classifier is not initialized, it will not be used during the forward process\n",
            "🔍 PaddleOCR (rec): raw='00002215' → clean='00002215'\n"
          ]
        }
      ]
    },
    {
      "cell_type": "code",
      "source": [
        "from paddleocr import PaddleOCR\n",
        "import cv2\n",
        "import matplotlib.pyplot as plt\n",
        "\n",
        "ocr = PaddleOCR(det=False, use_angle_cls=False, lang='en')\n",
        "img = cv2.imread(\"/content/log_4_row_final.jpg\")\n",
        "img_rgb = cv2.cvtColor(img, cv2.COLOR_BGR2RGB)\n",
        "\n",
        "results = ocr.ocr(img_rgb, det=False)\n",
        "\n",
        "if results and isinstance(results[0], list) and len(results[0]) > 0:\n",
        "    raw_text = results[0][0][0]\n",
        "    print(f\"🔍 PaddleOCR (только rec): raw='{raw_text}'\")\n",
        "else:\n",
        "    print(\"❌ PaddleOCR не распознал строку.\")\n",
        "\n",
        "plt.imshow(img_rgb)\n",
        "plt.axis(\"off\")\n",
        "plt.title(\"Склейка для PaddleOCR (rec only)\")\n",
        "plt.show()\n"
      ],
      "metadata": {
        "colab": {
          "base_uri": "https://localhost:8080/"
        },
        "id": "NOD6Hy1awXql",
        "outputId": "2a998971-aa4a-4a8e-bcd2-030a6029ba8d"
      },
      "id": "NOD6Hy1awXql",
      "execution_count": 120,
      "outputs": [
        {
          "output_type": "stream",
          "name": "stdout",
          "text": [
            "[2025/04/25 02:35:55] ppocr DEBUG: Namespace(help='==SUPPRESS==', use_gpu=False, use_xpu=False, use_npu=False, use_mlu=False, use_gcu=False, ir_optim=True, use_tensorrt=False, min_subgraph_size=15, precision='fp32', gpu_mem=500, gpu_id=0, image_dir=None, page_num=0, det_algorithm='DB', det_model_dir='/root/.paddleocr/whl/det/en/en_PP-OCRv3_det_infer', det_limit_side_len=960, det_limit_type='max', det_box_type='quad', det_db_thresh=0.3, det_db_box_thresh=0.6, det_db_unclip_ratio=1.5, max_batch_size=10, use_dilation=False, det_db_score_mode='fast', det_east_score_thresh=0.8, det_east_cover_thresh=0.1, det_east_nms_thresh=0.2, det_sast_score_thresh=0.5, det_sast_nms_thresh=0.2, det_pse_thresh=0, det_pse_box_thresh=0.85, det_pse_min_area=16, det_pse_scale=1, scales=[8, 16, 32], alpha=1.0, beta=1.0, fourier_degree=5, rec_algorithm='SVTR_LCNet', rec_model_dir='/root/.paddleocr/whl/rec/en/en_PP-OCRv4_rec_infer', rec_image_inverse=True, rec_image_shape='3, 48, 320', rec_batch_num=6, max_text_length=25, rec_char_dict_path='/usr/local/lib/python3.11/dist-packages/paddleocr/ppocr/utils/en_dict.txt', use_space_char=True, vis_font_path='./doc/fonts/simfang.ttf', drop_score=0.5, e2e_algorithm='PGNet', e2e_model_dir=None, e2e_limit_side_len=768, e2e_limit_type='max', e2e_pgnet_score_thresh=0.5, e2e_char_dict_path='./ppocr/utils/ic15_dict.txt', e2e_pgnet_valid_set='totaltext', e2e_pgnet_mode='fast', use_angle_cls=False, cls_model_dir='/root/.paddleocr/whl/cls/ch_ppocr_mobile_v2.0_cls_infer', cls_image_shape='3, 48, 192', label_list=['0', '180'], cls_batch_num=6, cls_thresh=0.9, enable_mkldnn=False, cpu_threads=10, use_pdserving=False, warmup=False, sr_model_dir=None, sr_image_shape='3, 32, 128', sr_batch_num=1, draw_img_save_dir='./inference_results', save_crop_res=False, crop_res_save_dir='./output', use_mp=False, total_process_num=1, process_id=0, benchmark=False, save_log_path='./log_output/', show_log=True, use_onnx=False, onnx_providers=False, onnx_sess_options=False, return_word_box=False, output='./output', table_max_len=488, table_algorithm='TableAttn', table_model_dir=None, merge_no_span_structure=True, table_char_dict_path=None, formula_algorithm='LaTeXOCR', formula_model_dir=None, formula_char_dict_path=None, formula_batch_num=1, layout_model_dir=None, layout_dict_path=None, layout_score_threshold=0.5, layout_nms_threshold=0.5, kie_algorithm='LayoutXLM', ser_model_dir=None, re_model_dir=None, use_visual_backbone=True, ser_dict_path='../train_data/XFUND/class_list_xfun.txt', ocr_order_method=None, mode='structure', image_orientation=False, layout=True, table=True, formula=False, ocr=True, recovery=False, recovery_to_markdown=False, use_pdf2docx_api=False, invert=False, binarize=False, alphacolor=(255, 255, 255), lang='en', det=False, rec=True, type='ocr', savefile=False, ocr_version='PP-OCRv4', structure_version='PP-StructureV2')\n",
            "[2025/04/25 02:35:56] ppocr WARNING: Since the angle classifier is not initialized, it will not be used during the forward process\n",
            "🔍 PaddleOCR (только rec): raw='00199132'\n"
          ]
        }
      ]
    }
  ],
  "metadata": {
    "colab": {
      "provenance": [],
      "include_colab_link": true
    },
    "language_info": {
      "name": "python"
    },
    "kernelspec": {
      "name": "python3",
      "display_name": "Python 3"
    }
  },
  "nbformat": 4,
  "nbformat_minor": 5
}